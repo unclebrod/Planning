{
 "cells": [
  {
   "cell_type": "code",
   "execution_count": 1,
   "metadata": {
    "ExecuteTime": {
     "end_time": "2020-05-10T21:30:23.977567Z",
     "start_time": "2020-05-10T21:30:22.529205Z"
    }
   },
   "outputs": [],
   "source": [
    "# Initialize the workspace\n",
    "import lyricsgenius\n",
    "import json"
   ]
  },
  {
   "cell_type": "code",
   "execution_count": null,
   "metadata": {
    "ExecuteTime": {
     "end_time": "2020-05-10T21:33:07.211392Z",
     "start_time": "2020-05-10T21:32:02.786009Z"
    }
   },
   "outputs": [],
   "source": [
    "# Needed for APIs\n",
    "genius = lyricsgenius.Genius(\"TVpqUOpVG3wWkCgTKhGoT9RLvSThFKmg7sYU7NInQMO8VhkoxTpcQnUXvbk36OXr\")"
   ]
  },
  {
   "cell_type": "code",
   "execution_count": 100,
   "metadata": {
    "ExecuteTime": {
     "end_time": "2020-05-11T21:08:44.458186Z",
     "start_time": "2020-05-11T21:08:44.451355Z"
    }
   },
   "outputs": [],
   "source": [
    "# Remove clutter from lyrics output\n",
    "genius.remove_section_headers = True\n",
    "genius.excluded_terms = []"
   ]
  },
  {
   "cell_type": "code",
   "execution_count": 102,
   "metadata": {
    "ExecuteTime": {
     "end_time": "2020-05-11T21:11:01.158548Z",
     "start_time": "2020-05-11T21:11:01.132190Z"
    }
   },
   "outputs": [],
   "source": [
    "# Created a list of 100 rappers, across various eras, to examine\n",
    "rapper_list = (['Run-DMC', 'KRS-One', 'LL Cool J', 'Beastie Boys',\n",
    "                'Public Enemy', 'Eazy-E', 'Slick Rick', 'Big Daddy Kane',\n",
    "                'Ice-T', 'Salt-N-Pepa', 'A Tribe Called Quest', 'Heavy D',\n",
    "                'Ice Cube', 'Too $hort', 'De La Soul', 'MC Hammer',\n",
    "                'Redman', 'Snoop Dogg', 'Outkast', 'Jay-Z',\n",
    "                'Scarface', 'Nas', '2Pac', 'The Notorious B.I.G.',\n",
    "                'Wu-Tang Clan', 'DMX', 'Foxy Brown', 'Mobb Deep',\n",
    "                'Bone Thugs-N-Harmony', 'Busta Rhymes', 'MC Lyte', 'Mos Def',\n",
    "                '50 Cent', 'Missy Elliott', 'Common', 'E-40',\n",
    "                'Eminem', 'Lil Wayne', 'Ludacris', 'Kanye West',\n",
    "                'T.I.', 'Nelly', 'The Game', 'J. Cole',\n",
    "                'Twista', 'Jadakiss', 'Jeezy', 'Talib Kweli',\n",
    "                'Drake', 'Gucci Mane', 'Eve', 'Rick Ross',\n",
    "                \"Cam'ron\", 'Meek Mill', 'Lil Kim', 'Ja Rule',\n",
    "                'Remy Ma', 'Bow Wow', 'Chingy', 'Soulja Boy',\n",
    "                'Young Dro', 'Future', 'Travis Scott', 'Big Sean',\n",
    "                'ASAP Rocky', 'Tyler, the Creator', 'Lil Uzi Vert', 'JID',\n",
    "                'Denzy Curry', 'Joey Bada$$', 'Chance the Rapper', 'Kid Cudi',\n",
    "                'Nipsey Hussle', 'Clipse', 'Young Thug', '21 Savage',\n",
    "                'Schoolboy Q', 'ASAP Ferg', '2 Chainz', 'Nicki Minaj',\n",
    "                'Migos', 'YG', 'Danny Brown', 'Freddie Gibbs',\n",
    "                'Jay Rock', 'Lupe Fiasco', 'Vince Staples', 'Wale',\n",
    "                'Chief Keef', 'Earl Sweatshirt', 'Rapsody', 'Mac Miller',\n",
    "                'Trina', 'Cardi B', 'Action Bronson', 'The Roots',\n",
    "                'Maxo Kream', 'Brockhampton', 'Smino', 'Big KRIT'])"
   ]
  },
  {
   "cell_type": "code",
   "execution_count": 110,
   "metadata": {
    "ExecuteTime": {
     "end_time": "2020-05-12T05:57:16.040233Z",
     "start_time": "2020-05-12T05:42:50.429632Z"
    }
   },
   "outputs": [
    {
     "name": "stdout",
     "output_type": "stream",
     "text": [
      "Searching for songs by The Notorious B.I.G....\n",
      "\n",
      "Song 1: \"Juicy\"\n",
      "Song 2: \"Big Poppa\"\n",
      "Song 3: \"Suicidal Thoughts\"\n",
      "Song 4: \"Hypnotize\"\n",
      "Song 5: \"Ten Crack Commandments\"\n",
      "Song 6: \"Notorious Thugs\"\n",
      "Song 7: \"Who Shot Ya?\"\n",
      "Song 8: \"Mo’ Money Mo’ Problems\"\n",
      "Song 9: \"Gimme the Loot\"\n",
      "Song 10: \"Everyday Struggle\"\n",
      "Song 11: \"One More Chance\"\n",
      "Song 12: \"Warning\"\n",
      "Song 13: \"Kick in the Door\"\n",
      "Song 14: \"Sky’s The Limit\"\n",
      "Song 15: \"One More Chance / Stay With Me (Remix)\"\n",
      "Song 16: \"Dead Wrong\"\n",
      "Song 17: \"Me & My Bitch\"\n",
      "Song 18: \"The What\"\n",
      "Song 19: \"I Got a Story to Tell\"\n",
      "Song 20: \"Party and Bullshit\"\n",
      "Song 21: \"What’s Beef?\"\n",
      "Song 22: \"Machine Gun Funk\"\n",
      "Song 23: \"Ready To Die\"\n",
      "Song 24: \"Going Back to Cali\"\n",
      "Song 25: \"Niggas Bleed\"\n",
      "Song 26: \"You’re Nobody (Til Somebody Kills You)\"\n",
      "Song 27: \"Long Kiss Goodnight\"\n",
      "Song 28: \"Unbelievable\"\n",
      "Song 29: \"Fuck You Tonight\"\n",
      "Song 30: \"Things Done Changed\"\n",
      "Song 31: \"Respect\"\n",
      "Song 32: \"Just Playing (Dreams)\"\n",
      "Song 33: \"Come On\"\n",
      "Song 34: \"Somebody’s Gotta Die\"\n",
      "Song 35: \"Hold Ya Head\"\n",
      "Song 36: \"Nasty Girl\"\n",
      "Song 37: \"I Love the Dough\"\n",
      "Song 38: \"My Downfall\"\n",
      "Song 39: \"Want That Old Thing Back\"\n",
      "Song 40: \"Notorious B.I.G.\"\n",
      "Song 41: \"Miss U\"\n",
      "Song 42: \"Friend of Mine\"\n",
      "Song 43: \"The World Is Filled...\"\n",
      "Song 44: \"Fuck Me (Interlude)\"\n",
      "Song 45: \"Spit Your Game\"\n",
      "Song 46: \"Another\"\n",
      "Song 47: \"Big Booty Hoes\"\n",
      "Song 48: \"Nasty Boy\"\n",
      "Song 49: \"Last Day\"\n",
      "Song 50: \"Rap Phenomenon\"\n",
      "Song 51: \"Intro\"\n",
      "Song 52: \"1970 Somethin’\"\n",
      "Song 53: \"Playa Hater\"\n",
      "Song 54: \"Real Niggaz\"\n",
      "Song 55: \"Niggas\"\n",
      "Song 56: \"Can I Get Witcha\"\n",
      "Song 57: \"Life After Death Intro\"\n",
      "Song 58: \"Living In Pain\"\n",
      "Song 59: \"Dangerous MC’s\"\n",
      "Song 60: \"Microphone Murderer\"\n",
      "Song 61: \"Hustler’s Story\"\n",
      "Song 62: \"Biggie\"\n",
      "Song 63: \"For The Macs and Dons\"\n",
      "Song 64: \"1991 Block Party Freestyle\"\n",
      "Song 65: \"If I Should Die Before I Wake\"\n",
      "Song 66: \"Freestyle - Mister Cee\"\n",
      "Song 67: \"Would You Die for Me\"\n",
      "Song 68: \"It Has Been Said\"\n",
      "Song 69: \"Flip Dat Shit\"\n",
      "Song 70: \"Pepsi Freestyle\"\n",
      "Song 71: \"B.I.G. Interlude\"\n",
      "Song 72: \"One More Chance (Hip Hop Mix)\"\n",
      "Song 73: \"Hope You Niggas Sleep\"\n",
      "Song 74: \"I’m With Whateva\"\n",
      "Song 75: \"Dead Wrong (Remix) (Alternate Version)\"\n",
      "Song 76: \"Beef\"\n",
      "Song 77: \"Running Your Mouth\"\n",
      "Song 78: \"Guaranteed Raw (Demo)\"\n",
      "Song 79: \"Big Poppa (So So Def Remix)\"\n",
      "Song 80: \"Breakin’ Old Habits\"\n",
      "Song 81: \"Living the Life\"\n",
      "Song 82: \"Mumbling & Whispering\"\n",
      "Song 83: \"I Really Want to Show You\"\n",
      "Song 84: \"Get Your Grind On\"\n",
      "Song 85: \"Let Me Get Down\"\n",
      "Song 86: \"Tonight\"\n",
      "Song 87: \"The What (Unreleased Version)\"\n",
      "Song 88: \"Mi Casa\"\n",
      "Song 89: \"Just a Memory\"\n",
      "Song 90: \"Lets Get it on (Dirty Harry Blend)\"\n",
      "Song 91: \"Ultimate Rush\"\n",
      "Song 92: \"Dead Wrong (Original Version)\"\n",
      "Song 93: \"Wake Up\"\n",
      "Song 94: \"Lean Back Remix\"\n",
      "Song 95: \"1995 Westwood Freestyle (Me & Craig)\"\n",
      "Song 96: \"Come On (1st Take)\"\n",
      "Song 97: \"Love No Ho (Demo)\"\n",
      "Song 98: \"Born Again (Intro)\"\n",
      "Song 99: \"House of Pain (Bad Boy Remix)\"\n",
      "Song 100: \"Grab My Gun\"\n",
      "Song 101: \"House of Pain\"\n",
      "Song 102: \"Suicidal Thoughts(Izzamuzzic Remix)\"\n",
      "\"Life After Death [Credits]\" is not valid. Skipping.\n",
      "\"Ready to Die [Credits]\" is not valid. Skipping.\n",
      "Song 103: \"Juicy Clean Version for my class use\"\n",
      "Song 104: \"Never Dead\"\n",
      "Song 105: \"Ms Wallace (Outro)\"\n",
      "Song 106: \"Long Kiss Goodnight (Original)\"\n",
      "Song 107: \"Biggie Smalls Got That Hype Shit\"\n",
      "Song 108: \"Stickup\"\n",
      "Song 109: \"The Funk\"\n",
      "Song 110: \"Whatchu Want\"\n",
      "\"Interview on Eazy-E’s Death\" is not valid. Skipping.\n",
      "Song 111: \"“B.I.G. Live in Jamaica (Intro)”\"\n",
      "Song 112: \"St. Ides Commercial\"\n",
      "Song 113: \"Basement Freestyle\"\n",
      "Song 114: \"Blazing Chronic\"\n",
      "Song 115: \"Jeans & Sneakers\"\n",
      "Song 116: \"Love Is Everlasting (Outro)\"\n",
      "Song 117: \"White Chalk, Pt. 2 (Reference Track)\"\n",
      "Song 118: \"Throw Up Ya Gunz\"\n",
      "Song 119: \"Party and Bullshit (Ratatat Remix)\"\n",
      "Song 120: \"Message To Young Rappers\"\n",
      "Song 121: \"Gettin’ Money (’96 Demo)\"\n",
      "Song 122: \"Hands In Da Air (What Up Gangsta)\"\n",
      "Song 123: \"The Greatest Rapper (Interlude)\"\n",
      "Song 124: \"Who Shot Ya? (Original Demo Mix)\"\n",
      "Song 125: \"Nasty Boy (Unreleased Version)\"\n",
      "Song 126: \"Live In Action\"\n",
      "Song 127: \"Tha cypher\"\n",
      "Song 128: \"Little Homie (Interlude)\"\n",
      "Song 129: \"What Happened\"\n",
      "Song 130: \"Juicy (clean version) - only some verses\"\n",
      "Song 131: \"Notorious B.I.G. (remix)\"\n",
      "Song 132: \"Come On (Alternate Verse)\"\n",
      "Song 133: \"Respect the Takeover\"\n",
      "Song 134: \"Machine Gun Funk (Parliament Sample Removed)\"\n",
      "Song 135: \"White Chalk II\"\n",
      "\"Life After Death Album Art\" is not valid. Skipping.\n",
      "Song 136: \"Diary Of A Madman (Dead Wrong)\"\n",
      "Song 137: \"Ready To Die (Bridgeport Sample Removed)\"\n",
      "Song 138: \"Video Musicbox Freestyle\"\n",
      "Song 139: \"Teen Summit Freestyle\"\n",
      "Song 140: \"Dead Wrong (Remix)\"\n",
      "Song 141: \"Somebody Gotta Die (Outtake)\"\n",
      "Song 142: \"Why do some people hate Notorious (2009) so much?\"\n",
      "Song 143: \"Who Shot Ya (Serj Tankian Remix)\"\n",
      "Song 144: \"Queen B@$#h (Demo)\"\n",
      "Song 145: \"Where The Party At\"\n",
      "Song 146: \"N/A\"\n",
      "Song 147: \"Niggas (Original)\"\n",
      "Song 148: \"Can I Get Witcha (Original)\"\n",
      "Song 149: \"Radio Drop (MR. Cee)\"\n",
      "Song 150: \"Temptations\"\n",
      "Song 151: \"3 B’s\"\n",
      "Song 152: \"Nobody\"\n",
      "Song 153: \"It’s Not A Game\"\n",
      "Song 154: \"Bust A Nut\"\n",
      "Song 155: \"If I Should Die Before I Wake (Original Version)\"\n",
      "Song 156: \"The Grind\"\n",
      "Song 157: \"I’m With Whateva (Original)\"\n",
      "Done. Found 157 songs.\n",
      "Wrote `Lyrics_TheNotoriousB.I.G..json`\n",
      "Searching for songs by Wu-Tang Clan...\n",
      "\n",
      "Timeout raised and caught:\n",
      "HTTPSConnectionPool(host='api.genius.com', port=443): Read timed out. (read timeout=5)\n"
     ]
    },
    {
     "ename": "TypeError",
     "evalue": "argument of type 'NoneType' is not iterable",
     "output_type": "error",
     "traceback": [
      "\u001b[1;31m---------------------------------------------------------------------------\u001b[0m",
      "\u001b[1;31mTypeError\u001b[0m                                 Traceback (most recent call last)",
      "\u001b[1;32m<ipython-input-110-736fe38dfd95>\u001b[0m in \u001b[0;36m<module>\u001b[1;34m\u001b[0m\n\u001b[0;32m      2\u001b[0m \u001b[1;32mfor\u001b[0m \u001b[0mrapper\u001b[0m \u001b[1;32min\u001b[0m \u001b[0mrapper_list\u001b[0m\u001b[1;33m[\u001b[0m\u001b[1;36m23\u001b[0m\u001b[1;33m:\u001b[0m\u001b[1;33m]\u001b[0m\u001b[1;33m:\u001b[0m\u001b[1;33m\u001b[0m\u001b[1;33m\u001b[0m\u001b[0m\n\u001b[0;32m      3\u001b[0m     artist = genius.search_artist(rapper, sort='popularity',\n\u001b[1;32m----> 4\u001b[1;33m                                   get_full_info = True)\n\u001b[0m\u001b[0;32m      5\u001b[0m     \u001b[0martist\u001b[0m\u001b[1;33m.\u001b[0m\u001b[0msave_lyrics\u001b[0m\u001b[1;33m(\u001b[0m\u001b[1;33m)\u001b[0m\u001b[1;33m\u001b[0m\u001b[1;33m\u001b[0m\u001b[0m\n",
      "\u001b[1;32m~\\anaconda3\\lib\\site-packages\\lyricsgenius\\api.py\u001b[0m in \u001b[0;36msearch_artist\u001b[1;34m(self, artist_name, max_songs, sort, per_page, get_full_info, allow_name_change, artist_id)\u001b[0m\n\u001b[0;32m    353\u001b[0m                 \u001b[1;32melse\u001b[0m\u001b[1;33m:\u001b[0m\u001b[1;33m\u001b[0m\u001b[1;33m\u001b[0m\u001b[0m\n\u001b[0;32m    354\u001b[0m                     \u001b[0minfo\u001b[0m \u001b[1;33m=\u001b[0m \u001b[1;33m{\u001b[0m\u001b[1;34m'song'\u001b[0m\u001b[1;33m:\u001b[0m \u001b[0msong_info\u001b[0m\u001b[1;33m}\u001b[0m\u001b[1;33m\u001b[0m\u001b[1;33m\u001b[0m\u001b[0m\n\u001b[1;32m--> 355\u001b[1;33m                 \u001b[0msong\u001b[0m \u001b[1;33m=\u001b[0m \u001b[0mSong\u001b[0m\u001b[1;33m(\u001b[0m\u001b[0minfo\u001b[0m\u001b[1;33m,\u001b[0m \u001b[0mlyrics\u001b[0m\u001b[1;33m)\u001b[0m\u001b[1;33m\u001b[0m\u001b[1;33m\u001b[0m\u001b[0m\n\u001b[0m\u001b[0;32m    356\u001b[0m \u001b[1;33m\u001b[0m\u001b[0m\n\u001b[0;32m    357\u001b[0m                 \u001b[1;31m# Attempt to add the Song to the Artist\u001b[0m\u001b[1;33m\u001b[0m\u001b[1;33m\u001b[0m\u001b[1;33m\u001b[0m\u001b[0m\n",
      "\u001b[1;32m~\\anaconda3\\lib\\site-packages\\lyricsgenius\\song.py\u001b[0m in \u001b[0;36m__init__\u001b[1;34m(self, json_dict, lyrics)\u001b[0m\n\u001b[0;32m     25\u001b[0m             \u001b[0msave_lyrics\u001b[0m\u001b[1;33m:\u001b[0m \u001b[0mSave\u001b[0m \u001b[0mthe\u001b[0m \u001b[0msong\u001b[0m \u001b[0mlyrics\u001b[0m \u001b[0mto\u001b[0m \u001b[0ma\u001b[0m \u001b[0mJSON\u001b[0m \u001b[1;32mor\u001b[0m \u001b[0mTXT\u001b[0m \u001b[0mfile\u001b[0m\u001b[1;33m.\u001b[0m\u001b[1;33m\u001b[0m\u001b[1;33m\u001b[0m\u001b[0m\n\u001b[0;32m     26\u001b[0m         \"\"\"\n\u001b[1;32m---> 27\u001b[1;33m         \u001b[0mself\u001b[0m\u001b[1;33m.\u001b[0m\u001b[0m_body\u001b[0m \u001b[1;33m=\u001b[0m \u001b[0mjson_dict\u001b[0m\u001b[1;33m[\u001b[0m\u001b[1;34m'song'\u001b[0m\u001b[1;33m]\u001b[0m \u001b[1;32mif\u001b[0m \u001b[1;34m'song'\u001b[0m \u001b[1;32min\u001b[0m \u001b[0mjson_dict\u001b[0m \u001b[1;32melse\u001b[0m \u001b[0mjson_dict\u001b[0m\u001b[1;33m\u001b[0m\u001b[1;33m\u001b[0m\u001b[0m\n\u001b[0m\u001b[0;32m     28\u001b[0m         \u001b[0mself\u001b[0m\u001b[1;33m.\u001b[0m\u001b[0m_body\u001b[0m\u001b[1;33m[\u001b[0m\u001b[1;34m'lyrics'\u001b[0m\u001b[1;33m]\u001b[0m \u001b[1;33m=\u001b[0m \u001b[0mlyrics\u001b[0m\u001b[1;33m\u001b[0m\u001b[1;33m\u001b[0m\u001b[0m\n\u001b[0;32m     29\u001b[0m         \u001b[0mself\u001b[0m\u001b[1;33m.\u001b[0m\u001b[0m_url\u001b[0m \u001b[1;33m=\u001b[0m \u001b[0mself\u001b[0m\u001b[1;33m.\u001b[0m\u001b[0m_body\u001b[0m\u001b[1;33m[\u001b[0m\u001b[1;34m'url'\u001b[0m\u001b[1;33m]\u001b[0m\u001b[1;33m\u001b[0m\u001b[1;33m\u001b[0m\u001b[0m\n",
      "\u001b[1;31mTypeError\u001b[0m: argument of type 'NoneType' is not iterable"
     ]
    }
   ],
   "source": [
    "# Looping thru artists, grabbing the bulk of their discographies, and saving as JSONs\n",
    "for rapper in rapper_list:\n",
    "    artist = genius.search_artist(rapper, sort='popularity',\n",
    "                                  get_full_info = True)\n",
    "    artist.save_lyrics()"
   ]
  }
 ],
 "metadata": {
  "kernelspec": {
   "display_name": "Python 3",
   "language": "python",
   "name": "python3"
  },
  "language_info": {
   "codemirror_mode": {
    "name": "ipython",
    "version": 3
   },
   "file_extension": ".py",
   "mimetype": "text/x-python",
   "name": "python",
   "nbconvert_exporter": "python",
   "pygments_lexer": "ipython3",
   "version": "3.7.6"
  },
  "toc": {
   "base_numbering": 1,
   "nav_menu": {},
   "number_sections": true,
   "sideBar": true,
   "skip_h1_title": false,
   "title_cell": "Table of Contents",
   "title_sidebar": "Contents",
   "toc_cell": false,
   "toc_position": {},
   "toc_section_display": true,
   "toc_window_display": false
  },
  "varInspector": {
   "cols": {
    "lenName": 16,
    "lenType": 16,
    "lenVar": 40
   },
   "kernels_config": {
    "python": {
     "delete_cmd_postfix": "",
     "delete_cmd_prefix": "del ",
     "library": "var_list.py",
     "varRefreshCmd": "print(var_dic_list())"
    },
    "r": {
     "delete_cmd_postfix": ") ",
     "delete_cmd_prefix": "rm(",
     "library": "var_list.r",
     "varRefreshCmd": "cat(var_dic_list()) "
    }
   },
   "types_to_exclude": [
    "module",
    "function",
    "builtin_function_or_method",
    "instance",
    "_Feature"
   ],
   "window_display": false
  }
 },
 "nbformat": 4,
 "nbformat_minor": 4
}
